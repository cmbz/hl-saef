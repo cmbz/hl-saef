{
 "cells": [
  {
   "attachments": {},
   "cell_type": "markdown",
   "metadata": {},
   "source": [
    "# Create SAEF Inventories"
   ]
  },
  {
   "attachments": {},
   "cell_type": "markdown",
   "metadata": {},
   "source": [
    "## About\n",
    "Script to create inventories of SAEF datafiles and datasets on Harvard Dataverse Repository\n",
    "- **Created:** 2023/02/06\n",
    "- **Last update:** 2023/02/06"
   ]
  },
  {
   "attachments": {},
   "cell_type": "markdown",
   "metadata": {},
   "source": [
    "## Globals\n",
    "Define global variables."
   ]
  },
  {
   "cell_type": "code",
   "execution_count": null,
   "metadata": {},
   "outputs": [],
   "source": [
    "g_saef_module_path = '../src'\n",
    "# json collection filename\n",
    "g_saef_json_collection_inventory = './saef_collection.json'\n",
    "# dataset inventory\n",
    "g_saef_dataset_inventory = './saef_hdv_dataset_inventory.csv'\n",
    "# datafiles inventory\n",
    "g_saef_datafiles_inventory = './saef_hdv_datafiles_inventory.csv'\n",
    "# installation url\n",
    "g_dataverse_installation_url = 'https://dataverse.harvard.edu'\n",
    "# collection url\n",
    "g_dataverse_collection_url = 'SAEF'\n",
    "# dataverse.harvard.edu API key\n",
    "g_dataverse_api_key = ''"
   ]
  },
  {
   "cell_type": "markdown",
   "metadata": {},
   "source": [
    "Add local modules path to Jupyter system path"
   ]
  },
  {
   "cell_type": "code",
   "execution_count": null,
   "metadata": {},
   "outputs": [],
   "source": [
    "import sys\n",
    "if g_saef_module_path not in sys.path:\n",
    "    sys.path.append(g_saef_module_path)"
   ]
  },
  {
   "cell_type": "markdown",
   "metadata": {},
   "source": [
    "## Modules"
   ]
  },
  {
   "cell_type": "code",
   "execution_count": null,
   "metadata": {},
   "outputs": [],
   "source": [
    "import saef\n",
    "import collection\n",
    "import pprint\n",
    "import json"
   ]
  },
  {
   "cell_type": "markdown",
   "metadata": {},
   "source": [
    "### Initialize pyDataverse API\n",
    "- **Description:** Initialize the `pyDataverse` API adapter"
   ]
  },
  {
   "cell_type": "code",
   "execution_count": null,
   "metadata": {},
   "outputs": [],
   "source": [
    "# import pyDataverse packages\n",
    "from pyDataverse.api import NativeApi\n",
    "\n",
    "# create pyDataverse API adapter\n",
    "api = NativeApi(g_dataverse_installation_url, g_dataverse_api_key)\n",
    "\n",
    "print('{}'.format(api))"
   ]
  },
  {
   "cell_type": "markdown",
   "metadata": {},
   "source": [
    "### Create and initialize the `SAEFCollection`"
   ]
  },
  {
   "cell_type": "code",
   "execution_count": null,
   "metadata": {},
   "outputs": [],
   "source": [
    "# print documentation\n",
    "print('SAEFCollection::initialize {}'.format(collection.SAEFCollection.__doc__))\n",
    "print('SAEFCollection::initialize {}'.format(collection.SAEFCollection.initialize.__doc__))\n",
    "\n",
    "# create collection\n",
    "saef_collection = collection.SAEFCollection()\n",
    "\n",
    "# initialize the collection\n",
    "status = saef_collection.initialize(api, g_dataverse_collection_url)\n",
    "print('SAEFCollection::initialize: {}'.format(status))"
   ]
  },
  {
   "attachments": {},
   "cell_type": "markdown",
   "metadata": {},
   "source": [
    "### Save the SAEF collection contents"
   ]
  },
  {
   "cell_type": "code",
   "execution_count": null,
   "metadata": {},
   "outputs": [],
   "source": [
    "# print documentation\n",
    "print('SAEFCollection::get_collection_contents {}'.format(collection.SAEFCollection.get_collection_contents.__doc__))\n",
    "\n",
    "# create or open a file to write json contents\n",
    "fp = open(g_saef_json_collection_inventory, 'w')\n",
    "# get the json contents of the collection\n",
    "contents = saef_collection.get_collection_contents()\n",
    "# write contents to file\n",
    "fp.write(json.dumps(contents))\n",
    "# close and save file\n",
    "fp.close()"
   ]
  },
  {
   "cell_type": "markdown",
   "metadata": {},
   "source": [
    "### Get Dataset Inventory"
   ]
  },
  {
   "cell_type": "code",
   "execution_count": null,
   "metadata": {},
   "outputs": [],
   "source": [
    "# print documentation\n",
    "print('SAEFCollection::create_dataset_inventory {}'.format(collection.SAEFCollection.create_dataset_inventory.__doc__))\n",
    "\n",
    "# create dataset inventory\n",
    "datasets = saef_collection.create_dataset_inventory()\n",
    "# write dataset inventory to a csv file\n",
    "datasets.to_csv(g_saef_dataset_inventory,header=True,index=False)"
   ]
  },
  {
   "cell_type": "markdown",
   "metadata": {},
   "source": [
    "### Get SAEF Datafile Inventory"
   ]
  },
  {
   "cell_type": "code",
   "execution_count": null,
   "metadata": {},
   "outputs": [],
   "source": [
    "# print documentation\n",
    "print('SAEFCollection::create_datafile_inventory {}'.format(collection.SAEFCollection.create_datafile_inventory.__doc__))\n",
    "\n",
    "# create the datafiles inventory\n",
    "datafiles = saef_collection.create_datafile_inventory()\n",
    "\n",
    "# save the datafiles inventory to a csv file\n",
    "datafiles.to_csv(g_saef_datafiles_inventory,header=True,index=False)"
   ]
  },
  {
   "cell_type": "markdown",
   "metadata": {},
   "source": [
    "**End document.**"
   ]
  }
 ],
 "metadata": {
  "kernelspec": {
   "display_name": "base",
   "language": "python",
   "name": "python3"
  },
  "language_info": {
   "codemirror_mode": {
    "name": "ipython",
    "version": 3
   },
   "file_extension": ".py",
   "mimetype": "text/x-python",
   "name": "python",
   "nbconvert_exporter": "python",
   "pygments_lexer": "ipython3",
   "version": "3.8.8"
  },
  "vscode": {
   "interpreter": {
    "hash": "e80866da39f614c41262712a96c603cec09e65c25ffba1b64ff6a9fa5a13fe2c"
   }
  }
 },
 "nbformat": 4,
 "nbformat_minor": 4
}
