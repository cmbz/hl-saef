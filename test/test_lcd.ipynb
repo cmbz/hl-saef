{
 "cells": [
  {
   "cell_type": "markdown",
   "metadata": {},
   "source": [
    "# Test: LCD Module Classes"
   ]
  },
  {
   "cell_type": "markdown",
   "metadata": {},
   "source": [
    "## About\n",
    "Interactive tests of classes in `lcd` module.\n",
    "- **Created:** 2022/12/21\n",
    "- **Last update:** 2023/01/02"
   ]
  },
  {
   "cell_type": "markdown",
   "metadata": {},
   "source": [
    "### Globals\n",
    "Define global variables for testing"
   ]
  },
  {
   "cell_type": "code",
   "execution_count": 1,
   "metadata": {},
   "outputs": [],
   "source": [
    "g_lcd_module_path = '../src'\n",
    "g_test_inventory_true = './inventory/test_lcd_inventory_true.csv'\n",
    "g_test_inventory_false = './inventory/test_lcd_inventory_false.csv'"
   ]
  },
  {
   "cell_type": "markdown",
   "metadata": {},
   "source": [
    "Add local modules path to Jupyter system path"
   ]
  },
  {
   "cell_type": "code",
   "execution_count": null,
   "metadata": {},
   "outputs": [],
   "source": [
    "import sys\n",
    "if g_lcd_module_path not in sys.path:\n",
    "    sys.path.append(g_lcd_module_path)"
   ]
  },
  {
   "cell_type": "markdown",
   "metadata": {},
   "source": [
    "### Modules"
   ]
  },
  {
   "cell_type": "code",
   "execution_count": null,
   "metadata": {},
   "outputs": [],
   "source": [
    "import lcd\n",
    "import pprint"
   ]
  },
  {
   "cell_type": "markdown",
   "metadata": {},
   "source": [
    "Documentation for `lcd`"
   ]
  },
  {
   "cell_type": "code",
   "execution_count": null,
   "metadata": {},
   "outputs": [],
   "source": [
    "print('Library Collections as Data Module: {}\\n'.format(lcd.__doc__))"
   ]
  },
  {
   "cell_type": "markdown",
   "metadata": {},
   "source": [
    "### Test `FileInventory`"
   ]
  },
  {
   "cell_type": "markdown",
   "metadata": {},
   "source": [
    "`FileInventory` documentation"
   ]
  },
  {
   "cell_type": "code",
   "execution_count": null,
   "metadata": {},
   "outputs": [],
   "source": [
    "print('FileInventory: {}'.format(lcd.FileInventory.__doc__))"
   ]
  },
  {
   "cell_type": "markdown",
   "metadata": {},
   "source": [
    "Test create one `FileInventory` instance"
   ]
  },
  {
   "cell_type": "markdown",
   "metadata": {},
   "source": [
    "- `FileInventory` documentation"
   ]
  },
  {
   "cell_type": "code",
   "execution_count": null,
   "metadata": {},
   "outputs": [],
   "source": [
    "print('FileInventory::constructor: {}'.format(lcd.FileInventory.__init__.__doc__))\n",
    "print('FileInventory::initd: {}'.format(lcd.FileInventory.initd.__doc__))\n",
    "print('FileInventory::from_file: {}'.format(lcd.FileInventory.from_file.__doc__))"
   ]
  },
  {
   "cell_type": "code",
   "execution_count": null,
   "metadata": {},
   "outputs": [],
   "source": [
    "# create file inventory instance\n",
    "fi = lcd.FileInventory()\n",
    "\n",
    "# is file inventory initialized?\n",
    "print ('FileInventory::initd: {}'.format(fi.initd()))\n",
    "\n",
    "# read inventory from invalid csv file\n",
    "print ('FileInventory::from_file: {}'.format(fi.from_file(g_test_inventory_false)))\n",
    "\n",
    "# read inventory from valid csv file\n",
    "print ('FileInventory::from_file: {}'.format(fi.from_file(g_test_inventory_true)))\n",
    "\n",
    "# is file inventory initialized?\n",
    "print ('FileInventory::initd: {}'.format(fi.initd()))"
   ]
  },
  {
   "cell_type": "markdown",
   "metadata": {},
   "source": [
    "Get list of digital objects in valid `FileInventory`"
   ]
  },
  {
   "cell_type": "markdown",
   "metadata": {},
   "source": [
    "- `FileInventory::get_owner_supplied_names` documentation"
   ]
  },
  {
   "cell_type": "code",
   "execution_count": null,
   "metadata": {},
   "outputs": [],
   "source": [
    "print('FileInventory::get_owner_supplied_names: {}'.format(lcd.FileInventory.get_owner_supplied_names.__doc__))"
   ]
  },
  {
   "cell_type": "code",
   "execution_count": null,
   "metadata": {},
   "outputs": [],
   "source": [
    "names = list(fi.get_owner_supplied_names())\n",
    "pprint.pprint(names)"
   ]
  },
  {
   "cell_type": "markdown",
   "metadata": {},
   "source": [
    "Get the `DataFrame` of files associated witih the second `object_osn` in the list "
   ]
  },
  {
   "cell_type": "markdown",
   "metadata": {},
   "source": [
    "- `FileIventory::get_files` documentation"
   ]
  },
  {
   "cell_type": "code",
   "execution_count": null,
   "metadata": {},
   "outputs": [],
   "source": [
    "print('FileInventory::get_files: {}'.format(lcd.FileInventory.get_files.__doc__))"
   ]
  },
  {
   "cell_type": "code",
   "execution_count": null,
   "metadata": {},
   "outputs": [],
   "source": [
    "# get the second owner supplied name in the list\n",
    "object_osn = names[1]\n",
    "print('Object osn: {}'.format(object_osn))\n",
    "\n",
    "files_df = fi.get_files('object_osn',object_osn)\n",
    "print('Num files for {} = {}.'.format(object_osn, len(files_df)))"
   ]
  },
  {
   "cell_type": "markdown",
   "metadata": {},
   "source": [
    "Check for a file in the `DataFrame`"
   ]
  },
  {
   "cell_type": "markdown",
   "metadata": {},
   "source": [
    "- `FileInventory::file_in_inventory` documentation"
   ]
  },
  {
   "cell_type": "code",
   "execution_count": null,
   "metadata": {},
   "outputs": [],
   "source": [
    "print('FileInventory::file_in_inventory: {}'.format(lcd.FileInventory.file_in_inventory.__doc__))"
   ]
  },
  {
   "cell_type": "code",
   "execution_count": null,
   "metadata": {},
   "outputs": [],
   "source": [
    "# is an invalid file in inventory?\n",
    "results = fi.file_in_inventory('test.xml')\n",
    "pprint.pprint('{} in inventory? {}:{}'.format('test.xml', results[0],results[1]))\n",
    "\n",
    "# get the name of the first file in the inventory\n",
    "first_row_df = files_df.head(1)\n",
    "# get the specific row id (index) for this row\n",
    "# see: pandas documentation: https://pandas.pydata.org/docs/reference/indexing.html\n",
    "index = first_row_df.index[0]\n",
    "filename = first_row_df.at[index,'filename']\n",
    "\n",
    "# check to see if a file is in the file inventory\n",
    "results = fi.file_in_inventory(filename)\n",
    "pprint.pprint('{} in inventory? {}'.format(filename, results[0]))\n",
    "display(results[1])"
   ]
  },
  {
   "cell_type": "markdown",
   "metadata": {},
   "source": [
    "### Test `OCRInventory`"
   ]
  },
  {
   "cell_type": "markdown",
   "metadata": {},
   "source": [
    "`OCRInventory` documentation"
   ]
  },
  {
   "cell_type": "code",
   "execution_count": null,
   "metadata": {},
   "outputs": [],
   "source": [
    "print('OCRInventory: {}'.format(lcd.OCRInventory.__doc__))\n",
    "print('OCRInventory::initd: {}'.format(lcd.OCRInventory.initd.__doc__))\n",
    "print('OCRInventory::from_dataframe: {}'.format(lcd.OCRInventory.from_dataframe.__doc__))"
   ]
  },
  {
   "cell_type": "code",
   "execution_count": null,
   "metadata": {},
   "outputs": [],
   "source": [
    "# get an object osn with associated OCR files\n",
    "object_osn_ocr = names[0]\n",
    "\n",
    "ocr_files_df = fi.get_files('object_osn',object_osn_ocr)\n",
    "print('Num files for {} = {}.'.format(object_osn_ocr, len(ocr_files_df)))\n",
    "\n",
    "# create ocr inventory instance\n",
    "ocri = lcd.OCRInventory()\n",
    "\n",
    "# is ocr inventory initialized?\n",
    "print ('OCRInventory::initd: {}'.format(ocri.initd()))\n",
    "\n",
    "# read inventory from valid dataframe\n",
    "print ('OCRInventory::from_dataframe: {}'.format(ocri.from_dataframe(ocr_files_df)))\n",
    "\n",
    "# is ocr inventory initialized?\n",
    "print ('OCRInventory::initd: {}'.format(ocri.initd()))"
   ]
  },
  {
   "cell_type": "markdown",
   "metadata": {},
   "source": [
    "Get OCR files"
   ]
  },
  {
   "cell_type": "markdown",
   "metadata": {},
   "source": [
    "- `OCRInventory::get_files` documentation"
   ]
  },
  {
   "cell_type": "code",
   "execution_count": null,
   "metadata": {},
   "outputs": [],
   "source": [
    "print('OCRInventory::get_files: {}'.format(lcd.OCRInventory.get_files.__doc__))"
   ]
  },
  {
   "cell_type": "code",
   "execution_count": null,
   "metadata": {
    "scrolled": true
   },
   "outputs": [],
   "source": [
    "ocr_files_df = ocri.get_files()\n",
    "print('Num OCR files in inventory: {}'.format(len(ocr_files_df)))\n",
    "display(ocr_files_df)"
   ]
  },
  {
   "cell_type": "markdown",
   "metadata": {},
   "source": [
    "### Test `PDSDocument`"
   ]
  },
  {
   "cell_type": "markdown",
   "metadata": {},
   "source": [
    "`PDSDocument` documentation"
   ]
  },
  {
   "cell_type": "code",
   "execution_count": null,
   "metadata": {},
   "outputs": [],
   "source": [
    "print('PDSDocument:: {}'.format(lcd.PDSDocument.__doc__))\n",
    "print('PDSDocument::constructor {}'.format(lcd.PDSDocument.__init__.__doc__))\n",
    "print('PDSDocument::from_dataframe {}'.format(lcd.PDSDocument.from_dataframe.__doc__))\n",
    "print('PDSDocument::initd {}'.format(lcd.PDSDocument.initd.__doc__))"
   ]
  },
  {
   "cell_type": "code",
   "execution_count": null,
   "metadata": {},
   "outputs": [],
   "source": [
    "# create pds document instance\n",
    "pds = lcd.PDSDocument()\n",
    "\n",
    "# is the pds document initialized?\n",
    "print ('PDSDocument::initd: {}'.format(pds.initd()))\n",
    "\n",
    "# read pds document from valid dataframe\n",
    "print ('PDSDocument::from_dataframe: {}'.format(pds.from_dataframe(files_df)))\n",
    "\n",
    "# is pds document initialized?\n",
    "print ('PDSDocument::initd: {}'.format(pds.initd()))"
   ]
  },
  {
   "cell_type": "markdown",
   "metadata": {},
   "source": [
    "Get file metadata from `PDSDocument`"
   ]
  },
  {
   "cell_type": "markdown",
   "metadata": {},
   "source": [
    "- `PDSDocument::get_metadata` documentation"
   ]
  },
  {
   "cell_type": "code",
   "execution_count": null,
   "metadata": {},
   "outputs": [],
   "source": [
    "print('PDSDocument::get_metadata {}'.format(lcd.PDSDocument.get_metadata.__doc__))"
   ]
  },
  {
   "cell_type": "code",
   "execution_count": null,
   "metadata": {},
   "outputs": [],
   "source": [
    "metadata = pds.get_metadata()\n",
    "pprint.pprint(metadata)"
   ]
  },
  {
   "cell_type": "markdown",
   "metadata": {},
   "source": [
    "Get `DataFrame` containing the `METS` file"
   ]
  },
  {
   "cell_type": "code",
   "execution_count": null,
   "metadata": {},
   "outputs": [],
   "source": [
    "print('PDSDocument::get_mets_file {}'.format(lcd.PDSDocument.get_mets_file.__doc__))"
   ]
  },
  {
   "cell_type": "code",
   "execution_count": null,
   "metadata": {},
   "outputs": [],
   "source": [
    "mets_df = pds.get_mets_file()\n",
    "display(mets_df)"
   ]
  },
  {
   "cell_type": "markdown",
   "metadata": {},
   "source": [
    "Get `DataFrame` of image files"
   ]
  },
  {
   "cell_type": "code",
   "execution_count": null,
   "metadata": {},
   "outputs": [],
   "source": [
    "print('PDSDocument::get_image_files {}'.format(lcd.PDSDocument.get_image_files.__doc__))"
   ]
  },
  {
   "cell_type": "code",
   "execution_count": null,
   "metadata": {},
   "outputs": [],
   "source": [
    "images_df = pds.get_image_files()\n",
    "print('Num images: {}'.format(len(images_df)))\n",
    "display(images_df)"
   ]
  },
  {
   "cell_type": "markdown",
   "metadata": {},
   "source": [
    "Get `DataFrame` of files"
   ]
  },
  {
   "cell_type": "code",
   "execution_count": null,
   "metadata": {},
   "outputs": [],
   "source": [
    "print('PDSDocument::get_files {}'.format(lcd.PDSDocument.get_files.__doc__))"
   ]
  },
  {
   "cell_type": "code",
   "execution_count": null,
   "metadata": {
    "scrolled": true
   },
   "outputs": [],
   "source": [
    "files_df = pds.get_files()\n",
    "print('Num files: {}'.format(len(files_df)))\n",
    "display(files_df)"
   ]
  },
  {
   "cell_type": "markdown",
   "metadata": {},
   "source": [
    "Get the file formats in the inventory"
   ]
  },
  {
   "cell_type": "code",
   "execution_count": null,
   "metadata": {},
   "outputs": [],
   "source": [
    "print('PDSDocument::get_file_formats {}'.format(lcd.PDSDocument.get_file_formats.__doc__))"
   ]
  },
  {
   "cell_type": "code",
   "execution_count": null,
   "metadata": {},
   "outputs": [],
   "source": [
    "print('File formats: {}'.format(pds.get_file_formats()))"
   ]
  },
  {
   "cell_type": "markdown",
   "metadata": {},
   "source": [
    "**End document.**"
   ]
  }
 ],
 "metadata": {
  "kernelspec": {
   "display_name": "base",
   "language": "python",
   "name": "python3"
  },
  "language_info": {
   "codemirror_mode": {
    "name": "ipython",
    "version": 3
   },
   "file_extension": ".py",
   "mimetype": "text/x-python",
   "name": "python",
   "nbconvert_exporter": "python",
   "pygments_lexer": "ipython3",
   "version": "3.8.8"
  },
  "vscode": {
   "interpreter": {
    "hash": "e80866da39f614c41262712a96c603cec09e65c25ffba1b64ff6a9fa5a13fe2c"
   }
  }
 },
 "nbformat": 4,
 "nbformat_minor": 4
}
