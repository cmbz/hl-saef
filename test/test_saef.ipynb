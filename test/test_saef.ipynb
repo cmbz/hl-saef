{
 "cells": [
  {
   "cell_type": "markdown",
   "metadata": {},
   "source": [
    "# Test: SAEF Module Classes"
   ]
  },
  {
   "cell_type": "markdown",
   "metadata": {},
   "source": [
    "## About\n",
    "Interactive tests of classes in `saef` module\n",
    "- **Created:** 2022/12/21\n",
    "- **Last update:** 2023/01/03"
   ]
  },
  {
   "cell_type": "markdown",
   "metadata": {},
   "source": [
    "## Globals\n",
    "Define global variables for testing purposes."
   ]
  },
  {
   "cell_type": "code",
   "execution_count": null,
   "metadata": {},
   "outputs": [],
   "source": [
    "g_saef_module_path = '../src'\n",
    "\n",
    "# this inventory contains the required saef mms_id and object_tags fields\n",
    "g_test_saef_inventory = './inventory/test_saef_updated_inventory.csv'\n",
    "# this inventory contains msft files, in addition to the required mms_id and object_tags fields\n",
    "g_test_saef_msft_inventory = './inventory/test_saef_msft_inventory.csv'\n",
    "# demo.dataverse.org API key\n",
    "g_demo_dataverse_api_key = ''"
   ]
  },
  {
   "cell_type": "markdown",
   "metadata": {},
   "source": [
    "Add local modules path to Jupyter system path"
   ]
  },
  {
   "cell_type": "code",
   "execution_count": null,
   "metadata": {},
   "outputs": [],
   "source": [
    "import sys\n",
    "if g_saef_module_path not in sys.path:\n",
    "    sys.path.append(g_saef_module_path)"
   ]
  },
  {
   "cell_type": "markdown",
   "metadata": {},
   "source": [
    "## Modules"
   ]
  },
  {
   "cell_type": "code",
   "execution_count": null,
   "metadata": {},
   "outputs": [],
   "source": [
    "import lcd\n",
    "import saef\n",
    "import pprint"
   ]
  },
  {
   "cell_type": "markdown",
   "metadata": {},
   "source": [
    "Documentation for `saef` module"
   ]
  },
  {
   "cell_type": "code",
   "execution_count": null,
   "metadata": {},
   "outputs": [],
   "source": [
    "print(saef.__doc__)"
   ]
  },
  {
   "cell_type": "markdown",
   "metadata": {},
   "source": [
    "### Test `SAEFProjectConfig`"
   ]
  },
  {
   "cell_type": "markdown",
   "metadata": {},
   "source": [
    "`SAEFProjectConfig` documentation"
   ]
  },
  {
   "cell_type": "code",
   "execution_count": null,
   "metadata": {},
   "outputs": [],
   "source": [
    "print('SAEFProjectConfig:: {}'.format(saef.SAEFProjectConfig.__doc__))\n",
    "print('SAEFProjectConfig::read_ini {}'.format(saef.SAEFProjectConfig.read_ini.__doc__))\n",
    "print('SAEFProjectConfig::initd {}'.format(saef.SAEFProjectConfig.initd.__doc__))\n",
    "print('SAEFProjectConfig::get_options {}'.format(saef.SAEFProjectConfig.get_options.__doc__))\n",
    "print('SAEFProjectConfig::get_sections {}'.format(saef.SAEFProjectConfig.get_sections.__doc__))"
   ]
  },
  {
   "cell_type": "code",
   "execution_count": null,
   "metadata": {},
   "outputs": [],
   "source": [
    "# create a saef project config instance\n",
    "config = saef.SAEFProjectConfig()\n",
    "\n",
    "# test an invalid ini file\n",
    "try:\n",
    "    config.read_ini('./config/test_saef_config_false.ini')\n",
    "except ValueError:\n",
    "    print('Error reading test_saef_config_false.ini. Missing required element.')\n",
    "\n",
    "# test a valid ini file\n",
    "print('SAEFProjectConfig::read_ini: {}'.format(config.read_ini('./config/test_saef_config_true.ini')))\n",
    "\n",
    "# print initialization status\n",
    "print('SAEFProjectConfig::initd: {}'.format(config.initd()))\n",
    "\n",
    "# get configuration options\n",
    "options = config.get_options()\n",
    "pprint.pprint('SAEFProjectConfig::get_options: {}'.format(options),sort_dicts=True)\n",
    "\n",
    "# get configuration sections\n",
    "sections = config.get_sections()\n",
    "pprint.pprint('SAEFProjectConfig::get_sections: {}'.format(sections))"
   ]
  },
  {
   "cell_type": "markdown",
   "metadata": {},
   "source": [
    "### Test `MSFTInventory`"
   ]
  },
  {
   "cell_type": "markdown",
   "metadata": {},
   "source": [
    "`MSFTInventory` documentation"
   ]
  },
  {
   "cell_type": "code",
   "execution_count": null,
   "metadata": {},
   "outputs": [],
   "source": [
    "print('MSFTInventory:: {}'.format(saef.MSFTInventory.__doc__))"
   ]
  },
  {
   "cell_type": "markdown",
   "metadata": {},
   "source": [
    "Create the `MSFTInventory` instance"
   ]
  },
  {
   "cell_type": "code",
   "execution_count": null,
   "metadata": {},
   "outputs": [],
   "source": [
    "print('MSFTInventory::from_file {}'.format(saef.MSFTInventory.from_file.__doc__))\n",
    "print('MSFTInventory::initd {}'.format(saef.MSFTInventory.initd.__doc__))"
   ]
  },
  {
   "cell_type": "code",
   "execution_count": null,
   "metadata": {},
   "outputs": [],
   "source": [
    "# create msft inventory instance\n",
    "msft = saef.MSFTInventory()\n",
    "\n",
    "# read msft inventory from valid csv file\n",
    "print ('MSFTInventory::from_file: {}'.format(msft.from_file(g_test_saef_msft_inventory)))\n",
    "# is file inventory initialized?\n",
    "print ('MSFTInventory::initd: {}'.format(msft.initd()))"
   ]
  },
  {
   "cell_type": "markdown",
   "metadata": {},
   "source": [
    "Get the `MSFTInventory` image files"
   ]
  },
  {
   "cell_type": "code",
   "execution_count": null,
   "metadata": {},
   "outputs": [],
   "source": [
    "print('MSFTInventory::get_msft_img_files: {}'.format(saef.MSFTInventory.get_msft_img_files.__doc__))"
   ]
  },
  {
   "cell_type": "code",
   "execution_count": null,
   "metadata": {},
   "outputs": [],
   "source": [
    "image_files_df = msft.get_msft_img_files()\n",
    "print('Num images: {}'.format(len(image_files_df)))\n",
    "display(image_files_df)"
   ]
  },
  {
   "cell_type": "markdown",
   "metadata": {},
   "source": [
    "Get `MSFTInventory` JSON files"
   ]
  },
  {
   "cell_type": "code",
   "execution_count": null,
   "metadata": {},
   "outputs": [],
   "source": [
    "print('MSFTInventory::get_msft_json_files {}'.format(saef.MSFTInventory.get_msft_json_files.__doc__))"
   ]
  },
  {
   "cell_type": "code",
   "execution_count": null,
   "metadata": {
    "scrolled": true
   },
   "outputs": [],
   "source": [
    "json_files_df = msft.get_msft_json_files()\n",
    "print('Num json files: {}'.format(len(json_files_df)))\n",
    "display(json_files_df)"
   ]
  },
  {
   "cell_type": "markdown",
   "metadata": {},
   "source": [
    "Get `MSFTInventory` txt files"
   ]
  },
  {
   "cell_type": "code",
   "execution_count": null,
   "metadata": {},
   "outputs": [],
   "source": [
    "print('MSFTInventory::get_msft_txt_files {}'.format(saef.MSFTInventory.get_msft_txt_files.__doc__))"
   ]
  },
  {
   "cell_type": "code",
   "execution_count": null,
   "metadata": {},
   "outputs": [],
   "source": [
    "txt_files_df = msft.get_msft_txt_files()\n",
    "print('Num txt files: {}'.format(len(txt_files_df)))\n",
    "display(txt_files_df)"
   ]
  },
  {
   "cell_type": "markdown",
   "metadata": {},
   "source": [
    "Test `MSFTInventory` get all files. Note, `METS` files are not returned."
   ]
  },
  {
   "cell_type": "code",
   "execution_count": null,
   "metadata": {},
   "outputs": [],
   "source": [
    "print('MSFTInventory::get_files {}'.format(saef.MSFTInventory.get_files.__doc__))"
   ]
  },
  {
   "cell_type": "code",
   "execution_count": null,
   "metadata": {},
   "outputs": [],
   "source": [
    "files_df = msft.get_files()\n",
    "print('Num total files: {}'.format(len(files_df)))\n",
    "display(files_df)"
   ]
  },
  {
   "cell_type": "markdown",
   "metadata": {},
   "source": [
    "### Test `SAEFDigitalObject`"
   ]
  },
  {
   "cell_type": "markdown",
   "metadata": {},
   "source": [
    "`SAEFDigitalObject` documentation"
   ]
  },
  {
   "cell_type": "code",
   "execution_count": null,
   "metadata": {},
   "outputs": [],
   "source": [
    "print('SAEFDigitalObject:: {}'.format(saef.SAEFDigitalObject.__doc__))"
   ]
  },
  {
   "cell_type": "code",
   "execution_count": null,
   "metadata": {},
   "outputs": [],
   "source": [
    "# create file inventory instance\n",
    "fi = lcd.FileInventory()\n",
    "\n",
    "# read inventory from a csv file\n",
    "print ('FileInventory::from_file: {}'.format(fi.from_file(g_test_saef_inventory)))\n",
    "\n",
    "# get the second owner-supplied name in the inventory\n",
    "# note: the first name does not have associated object_tags\n",
    "osn = fi.get_owner_supplied_names()[1]\n",
    "\n",
    "# get the files associated with the osn\n",
    "files_df = fi.get_files('object_osn',osn)\n",
    "\n",
    "# create saef digital object instance\n",
    "saefdo = saef.SAEFDigitalObject()\n",
    "\n",
    "# read saef digital object from dataframe\n",
    "print ('SAEFDigitalObject::from_file: {}'.format(saefdo.from_dataframe(files_df)))\n",
    "\n",
    "# is saef digital object initialized?\n",
    "print ('SAEFDigitalObject::initd: {}'.format(saefdo.initd()))"
   ]
  },
  {
   "cell_type": "markdown",
   "metadata": {},
   "source": [
    "Get the `SAEFDigitalObject` METS file"
   ]
  },
  {
   "cell_type": "code",
   "execution_count": null,
   "metadata": {},
   "outputs": [],
   "source": [
    "print('SAEFDigitalObject::get_mets_file {}'.format(saef.SAEFDigitalObject.get_mets_file.__doc__))"
   ]
  },
  {
   "cell_type": "code",
   "execution_count": null,
   "metadata": {},
   "outputs": [],
   "source": [
    "mets_df = saefdo.get_mets_file()\n",
    "display(mets_df)"
   ]
  },
  {
   "cell_type": "markdown",
   "metadata": {},
   "source": [
    "Get the `SAEFDigitalObject` image files"
   ]
  },
  {
   "cell_type": "code",
   "execution_count": null,
   "metadata": {},
   "outputs": [],
   "source": [
    "print('SAEFDigitalObject::get_image_files {}'.format(saef.SAEFDigitalObject.get_image_files.__doc__))"
   ]
  },
  {
   "cell_type": "code",
   "execution_count": null,
   "metadata": {},
   "outputs": [],
   "source": [
    "images_df = saefdo.get_image_files()\n",
    "print('Num image files: {}'.format(len(images_df)))\n",
    "display(images_df)"
   ]
  },
  {
   "cell_type": "markdown",
   "metadata": {},
   "source": [
    "Get the `SAEFDigitalObject` `MSFT` image files"
   ]
  },
  {
   "cell_type": "code",
   "execution_count": null,
   "metadata": {},
   "outputs": [],
   "source": [
    "print('SAEFDigitalObject::get_msft_img_files {}'.format(saef.SAEFDigitalObject.get_msft_img_files.__doc__))"
   ]
  },
  {
   "cell_type": "code",
   "execution_count": null,
   "metadata": {},
   "outputs": [],
   "source": [
    "msft_images_df = saefdo.get_msft_img_files()\n",
    "if (msft_images_df.empty == True):\n",
    "    print('Num MSFT image files: {}'.format(0))\n",
    "else:\n",
    "    display(msft_images_df)"
   ]
  },
  {
   "cell_type": "markdown",
   "metadata": {},
   "source": [
    "Get the `SAEFDigitalObject` `MSFT` JSON files"
   ]
  },
  {
   "cell_type": "code",
   "execution_count": null,
   "metadata": {},
   "outputs": [],
   "source": [
    "print('SAEFDigitalObject::get_msft_json_files {}'.format(saef.SAEFDigitalObject.get_msft_json_files.__doc__))"
   ]
  },
  {
   "cell_type": "code",
   "execution_count": null,
   "metadata": {},
   "outputs": [],
   "source": [
    "msft_json_df = saefdo.get_msft_json_files()\n",
    "if (msft_json_df.empty == True):\n",
    "    print('Num MSFT JSON files: {}'.format(0))\n",
    "else:\n",
    "    display(msft_json_df)"
   ]
  },
  {
   "cell_type": "markdown",
   "metadata": {},
   "source": [
    "Get the `SAEFDigitalObject` `MSFT` TXT files"
   ]
  },
  {
   "cell_type": "code",
   "execution_count": null,
   "metadata": {},
   "outputs": [],
   "source": [
    "print('SAEFDigitalObject::get_msft_txt_files {}'.format(saef.SAEFDigitalObject.get_msft_txt_files.__doc__))"
   ]
  },
  {
   "cell_type": "code",
   "execution_count": null,
   "metadata": {},
   "outputs": [],
   "source": [
    "msft_txt_df = saefdo.get_msft_txt_files()\n",
    "if (msft_txt_df.empty == True):\n",
    "    print('Num MSFT TXT files: {}'.format(0))\n",
    "else:\n",
    "    display(msft_txt_df)"
   ]
  },
  {
   "cell_type": "markdown",
   "metadata": {},
   "source": [
    "Get `SAEFDigitalObject` OCR files\n",
    "- Note: this instance does not have any OCR files"
   ]
  },
  {
   "cell_type": "code",
   "execution_count": null,
   "metadata": {},
   "outputs": [],
   "source": [
    "print('SAEFDigitalObject::get_ocr_files {}'.format(saef.SAEFDigitalObject.get_ocr_files.__doc__))"
   ]
  },
  {
   "cell_type": "code",
   "execution_count": null,
   "metadata": {},
   "outputs": [],
   "source": [
    "ocr_df = saefdo.get_ocr_files()\n",
    "print('Num OCR files: {}'.format(len(ocr_df)))\n",
    "display(ocr_df)"
   ]
  },
  {
   "cell_type": "markdown",
   "metadata": {},
   "source": [
    "Get `SAEFDigitalObject` metadata"
   ]
  },
  {
   "cell_type": "code",
   "execution_count": null,
   "metadata": {},
   "outputs": [],
   "source": [
    "print('SAEFDigitalObject::get_metadata {}'.format(saef.SAEFDigitalObject.get_metadata.__doc__))"
   ]
  },
  {
   "cell_type": "code",
   "execution_count": null,
   "metadata": {},
   "outputs": [],
   "source": [
    "metadata = saefdo.get_metadata()\n",
    "print('Num keys: {}'.format(len(metadata.keys())))\n",
    "pprint.pprint(metadata)"
   ]
  },
  {
   "cell_type": "markdown",
   "metadata": {},
   "source": [
    "Get `SAEFDigitalObject` files"
   ]
  },
  {
   "cell_type": "code",
   "execution_count": null,
   "metadata": {},
   "outputs": [],
   "source": [
    "print('SAEFDigitalObject::get_files {}'.format(saef.SAEFDigitalObject.get_files.__doc__))"
   ]
  },
  {
   "cell_type": "code",
   "execution_count": null,
   "metadata": {},
   "outputs": [],
   "source": [
    "files_df = saefdo.get_files()\n",
    "print('Total num files: {}'.format(len(files_df)))\n",
    "display(files_df)"
   ]
  },
  {
   "cell_type": "markdown",
   "metadata": {},
   "source": [
    "Get `SAEFDigitalObject` PDS relationships"
   ]
  },
  {
   "cell_type": "code",
   "execution_count": null,
   "metadata": {},
   "outputs": [],
   "source": [
    "print('SAEFDigitalObject::get_pds_relationships {}'.format(saef.SAEFDigitalObject.get_pds_relationships.__doc__))"
   ]
  },
  {
   "cell_type": "code",
   "execution_count": null,
   "metadata": {},
   "outputs": [],
   "source": [
    "pds_relationships_df = saefdo.get_pds_relationships()\n",
    "print('Num files: {}'.format(len(pds_relationships_df)))\n",
    "\n",
    "# write relationships, if any\n",
    "if (len(pds_relationships_df) > 0):\n",
    "    display(pds_relationships_df)\n",
    "    name = options.get('digital_object').get('digital_object_pds_relationships')\n",
    "    path = './relationships/' + name\n",
    "    saefdo.write_relationships(path, 'pds')"
   ]
  },
  {
   "cell_type": "markdown",
   "metadata": {},
   "source": [
    "Get `SAEFDigitalObject` MSFT relationships"
   ]
  },
  {
   "cell_type": "code",
   "execution_count": null,
   "metadata": {},
   "outputs": [],
   "source": [
    "print('SAEFDigitalObject::get_msft_relationships {}'.format(saef.SAEFDigitalObject.get_msft_relationships.__doc__))"
   ]
  },
  {
   "cell_type": "code",
   "execution_count": null,
   "metadata": {},
   "outputs": [],
   "source": [
    "msft_relationships_df = saefdo.get_msft_relationships()\n",
    "print('Num files: {}'.format(len(msft_relationships_df)))\n",
    "\n",
    "# write relationships, if any\n",
    "if (len(msft_relationships_df) > 0):\n",
    "    display(msft_relationships_df)\n",
    "    name = options.get('digital_object').get('digital_object_msft_relationships')\n",
    "    path = './relationships/' + name\n",
    "    saefdo.write_relationships(path, 'msft')"
   ]
  },
  {
   "cell_type": "markdown",
   "metadata": {},
   "source": [
    "Get `SAEFDigitalObject` OCR relationships\n",
    "- Note: There are no OCR files in this digital object, therefore, there are no OCR relationships"
   ]
  },
  {
   "cell_type": "code",
   "execution_count": null,
   "metadata": {},
   "outputs": [],
   "source": [
    "print('SAEFDigitalObject::get_ocr_relationships {}'.format(saef.SAEFDigitalObject.get_ocr_relationships.__doc__))"
   ]
  },
  {
   "cell_type": "code",
   "execution_count": null,
   "metadata": {},
   "outputs": [],
   "source": [
    "ocr_relationships_df = saefdo.get_ocr_relationships()\n",
    "print('Num OCR relationship files: {}'.format(len(ocr_relationships_df)))\n",
    "\n",
    "# write relationships, if any\n",
    "if (len(ocr_relationships_df) > 0):\n",
    "    display(ocr_relationships_df)\n",
    "    name = options.get('digital_object').get('digital_object_ocr_relationships')\n",
    "    path = './relationships/' + name\n",
    "    saefdo.write_relationships(path, 'ocr')"
   ]
  },
  {
   "cell_type": "markdown",
   "metadata": {},
   "source": [
    "### Test `SAEFDatasetMetadata`\n",
    "`SAEFDatasetMetadata` instances are generally not instantiated solo, rather they are created when `SAEFDataset` instances are initialized."
   ]
  },
  {
   "cell_type": "code",
   "execution_count": null,
   "metadata": {},
   "outputs": [],
   "source": [
    "print('SAEFDatasetMetadata:: {}'.format(saef.SAEFDatasetMetadata.__doc__))"
   ]
  },
  {
   "cell_type": "markdown",
   "metadata": {},
   "source": [
    "Create a `SAEFDatasetMetadata` instance from a metadata dictionary"
   ]
  },
  {
   "cell_type": "code",
   "execution_count": null,
   "metadata": {},
   "outputs": [],
   "source": [
    "print('SAEFDatasetMetadata::from_dict {}'.format(saef.SAEFDatasetMetadata.from_dict.__doc__))\n",
    "print('SAEFDatasetMetadata::initd {}'.format(saef.SAEFDatasetMetadata.initd.__doc__))"
   ]
  },
  {
   "cell_type": "code",
   "execution_count": null,
   "metadata": {},
   "outputs": [],
   "source": [
    "# get the inventory of files from the current saef digital object\n",
    "inventory_df = saefdo.get_files()\n",
    "\n",
    "# get row of the mets file in the inventory\n",
    "mets = inventory_df.loc[inventory_df['file_format'] == 'Extensible Markup Language']\n",
    "\n",
    "# get mets file metadata values\n",
    "index = list(mets.index)[0]\n",
    "# get the record id\n",
    "record_id = mets.at[index,'mms_id']\n",
    "# get object_osn\n",
    "object_osn = mets.at[index,'object_osn']\n",
    "# get object_title\n",
    "object_title = mets.at[index,'object_title']\n",
    "# get object_tags\n",
    "object_tags = mets.at[index,'object_tags']\n",
    "# get the urn\n",
    "object_urn = mets.at[index,'object_delivery_urn']\n",
    "\n",
    "# get the config options\n",
    "options = config.get_options()\n",
    "\n",
    "# get values for digital object options\n",
    "directory = options.get('digital_object').get('digital_object_relationships_directory')\n",
    "pds_file = options.get('digital_object').get('digital_object_pds_relationships')\n",
    "msft_file = options.get('digital_object').get('digital_object_msft_relationships')\n",
    "ocr_file = options.get('digital_object').get('digital_object_ocr_relationships')\n",
    "\n",
    "# set values on the saef metadata dictionary\n",
    "md = {}\n",
    "md['pds_filename'] = directory + '/' + object_osn + '_' + pds_file\n",
    "md['msft_filename'] = directory + '/' + object_osn + '_' + msft_file\n",
    "md['ocr_filename'] = directory + '/' + object_osn + '_' + ocr_file\n",
    "md['title'] = object_osn\n",
    "md['author_name'] = options.get('dataset').get('dataset_author')\n",
    "md['author_affiliation'] = options.get('dataset').get('dataset_author_affiliation')\n",
    "md['contact_name'] = options.get('dataset').get('dataset_contact_name')\n",
    "md['contact_affiliation'] = options.get('dataset').get('dataset_contact_affiliation')\n",
    "md['contact_email'] = options.get('dataset').get('dataset_contact_email')\n",
    "md['subject'] = options.get('dataset').get('dataset_subject')\n",
    "md['description'] = object_title\n",
    "md['urn'] = object_urn\n",
    "md['url'] = 'https://nrs.harvard.edu/' + object_urn\n",
    "md['record_id'] = record_id\n",
    "md['object_tags'] = object_tags\n",
    "md['dataverse_collection_url'] = options.get('dataverse').get('dataverse_collection_url')\n",
    "md['dataverse_installation_url'] = options.get('dataverse').get('dataverse_installation_url')\n",
    "md['dataverse_api_logfile'] = options.get('dataverse').get('dataverse_api_logfile')\n",
    "\n",
    "# create the saef dataset metadata instance\n",
    "saefdmd = saef.SAEFDatasetMetadata()\n",
    "\n",
    "# initialize metadata from a dictionary\n",
    "print ('SAEFDatasetMetadata::from_dict: {}'.format(saefdmd.from_dict(md)))\n",
    "pprint.pprint(saefdmd.metadata)"
   ]
  },
  {
   "cell_type": "markdown",
   "metadata": {},
   "source": [
    "### Test `SAEFDataset`"
   ]
  },
  {
   "cell_type": "markdown",
   "metadata": {},
   "source": [
    "`SAEFDataset` documentation"
   ]
  },
  {
   "cell_type": "code",
   "execution_count": null,
   "metadata": {},
   "outputs": [],
   "source": [
    "print('SAEFDataset:: {}'.format(saef.SAEFDataset.__doc__))"
   ]
  },
  {
   "cell_type": "markdown",
   "metadata": {},
   "source": [
    "Initialize `pyDataverse` API\n",
    "- The`pyDataverse` API adapter is use to push `SAEF` datasets to the dataverse installation defined in `g_project_config`"
   ]
  },
  {
   "cell_type": "code",
   "execution_count": null,
   "metadata": {},
   "outputs": [],
   "source": [
    "# import pyDataverse packages\n",
    "from pyDataverse.api import NativeApi\n",
    "\n",
    "# create pyDataverse API adapter\n",
    "dataverse_collection_url = options.get('dataverse').get('dataverse_collection_url')\n",
    "dataverse_installation_url = options.get('dataverse').get('dataverse_installation_url')\n",
    "\n",
    "# use the locally set dataverse api key\n",
    "api = NativeApi(dataverse_installation_url, g_demo_dataverse_api_key)\n",
    "print('{}'.format(api))"
   ]
  },
  {
   "cell_type": "markdown",
   "metadata": {},
   "source": [
    "Create a `SAEFDataset`"
   ]
  },
  {
   "cell_type": "code",
   "execution_count": null,
   "metadata": {},
   "outputs": [],
   "source": [
    "# create a saef dataset instance\n",
    "dataset = saef.SAEFDataset()\n",
    "print ('SAEFDataset:: {}'.format(dataset))"
   ]
  },
  {
   "cell_type": "markdown",
   "metadata": {},
   "source": [
    "1. Initialize the `SAEFDataset` instance"
   ]
  },
  {
   "cell_type": "code",
   "execution_count": null,
   "metadata": {},
   "outputs": [],
   "source": [
    "print('SAEFDataset::initialize {}'.format(saef.SAEFDataset.initialize.__doc__))"
   ]
  },
  {
   "cell_type": "code",
   "execution_count": null,
   "metadata": {},
   "outputs": [],
   "source": [
    "status = False\n",
    "try:\n",
    "    # initialize dataset with a saef digital object instance\n",
    "    status = dataset.initialize(saefdo, config)\n",
    "except:\n",
    "    print ('SAEFDataset::initialize: {}'.format(status))\n",
    "    print('Error: Failed to initialize the dataset')\n",
    "else:\n",
    "    print ('SAEFDataset::initialize: {}'.format(status))\n",
    "    print('Success: Dataset was initialized: {}'.format(status))"
   ]
  },
  {
   "cell_type": "markdown",
   "metadata": {},
   "source": [
    "2. Create the actual Dataverse dataset on the installation: demo.dataverse.org.\n",
    "- **NB**: Remember to turn off the SAEF metadata block in on demo.dataverse.org/saef before creating the dataset. Otherwise, the API call will fail."
   ]
  },
  {
   "cell_type": "code",
   "execution_count": null,
   "metadata": {},
   "outputs": [],
   "source": [
    "status = dataset.create(api)\n",
    "print ('SAEFDataset::create: {}'.format(status))"
   ]
  },
  {
   "cell_type": "markdown",
   "metadata": {},
   "source": [
    "3. Upload the dataset's files using the `direct_upload` method"
   ]
  },
  {
   "cell_type": "code",
   "execution_count": null,
   "metadata": {},
   "outputs": [],
   "source": [
    "status = dataset.direct_upload_datafiles(api)\n",
    "print ('SAEFDataset::direct_upload_datafiles: {}'.format(status))"
   ]
  },
  {
   "cell_type": "markdown",
   "metadata": {},
   "source": [
    "4. Upload the dataset's relationship files using the `direct_upload` method"
   ]
  },
  {
   "cell_type": "code",
   "execution_count": null,
   "metadata": {},
   "outputs": [],
   "source": [
    "status = dataset.direct_upload_relationships(api)\n",
    "print ('SAEFDataset::direct_upload_relationships: {}'.format(status))"
   ]
  },
  {
   "cell_type": "markdown",
   "metadata": {},
   "source": [
    "5. Apply SAEF custom metadata to the dataset\n",
    "- Note: First, make sure to turn on the SAEF custom metadata block on the demo dataverse installation\n",
    "- Note: 2023/01/03: Currently, the demo installation appears to be in a strange state where two conflicting versions of the SAEF custom metadata block appear to be active. That situation needs to be corrected before datasets can be updated with the SAEF custom metadata."
   ]
  },
  {
   "cell_type": "code",
   "execution_count": null,
   "metadata": {},
   "outputs": [],
   "source": [
    "# get the saef custom metadata block\n",
    "md = dataset.get_dataset_metadata()\n",
    "saef_md = md.get('dataset').get('customSAEF')\n",
    "pprint.pprint(saef_md)\n",
    "\n",
    "# get the dataset pid\n",
    "dataset_doi = dataset.get_dataset_pid()\n",
    "\n",
    "# set up the request\n",
    "import requests\n",
    "# get the base url\n",
    "base_url = api.base_url\n",
    "# get the api token\n",
    "api_token = api.api_token\n",
    "# create the headers\n",
    "headers = {'X-Dataverse-key': api_token, 'Content-Type' : 'application/json'}\n",
    "\n",
    "# create the request url\n",
    "request_url = '{}/api/datasets/:persistentId/editMetadata/?persistentId={}&replace=true'.format(base_url, dataset_doi)\n",
    "\n",
    "# call the requests library using the request url\n",
    "response = requests.put(request_url, headers=headers, data=saef_md)\n",
    "pprint.pprint(response)\n",
    "status = response.json().get('status')\n",
    "print('SAEFDataset::update dataset metadata: {}'.format(status))"
   ]
  },
  {
   "cell_type": "markdown",
   "metadata": {},
   "source": [
    "### Clean up `demo.dataverse.org` collection\n",
    "Delete the dataset from demo.dataverse.org/saef"
   ]
  },
  {
   "cell_type": "code",
   "execution_count": null,
   "metadata": {},
   "outputs": [],
   "source": [
    "# get the dataset pid\n",
    "pid = dataset.get_dataset_pid()\n",
    "print('SAEFDataset: pid = {}'.format(pid))\n",
    "# destroy the dataset\n",
    "response = api.destroy_dataset(pid, is_pid=True, auth=True)\n",
    "status = response.json().get('status')\n",
    "print('SAEFDataset::destroy dataset: {}'.format(status))"
   ]
  },
  {
   "cell_type": "markdown",
   "metadata": {},
   "source": [
    "**End document.**"
   ]
  }
 ],
 "metadata": {
  "kernelspec": {
   "display_name": "Python 3",
   "language": "python",
   "name": "python3"
  },
  "language_info": {
   "codemirror_mode": {
    "name": "ipython",
    "version": 3
   },
   "file_extension": ".py",
   "mimetype": "text/x-python",
   "name": "python",
   "nbconvert_exporter": "python",
   "pygments_lexer": "ipython3",
   "version": "3.8.5"
  }
 },
 "nbformat": 4,
 "nbformat_minor": 4
}
