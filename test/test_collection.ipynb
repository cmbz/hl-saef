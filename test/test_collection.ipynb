{
 "cells": [
  {
   "cell_type": "markdown",
   "metadata": {},
   "source": [
    "# Test: SAEF Collection Module Classes"
   ]
  },
  {
   "cell_type": "markdown",
   "metadata": {},
   "source": [
    "## About\n",
    "Interactive tests of classes in `collection` module\n",
    "- **Created:** 2023/01/03\n",
    "- **Last update:** 2023/01/03"
   ]
  },
  {
   "cell_type": "markdown",
   "metadata": {},
   "source": [
    "## Globals\n",
    "Define global variables for testing purposes."
   ]
  },
  {
   "cell_type": "code",
   "execution_count": null,
   "metadata": {},
   "outputs": [],
   "source": [
    "g_saef_module_path = '../src'\n",
    "# json collection filename\n",
    "g_test_json_collection_inventory = './inventory/test_saef_collection.json'\n",
    "# dataset inventory\n",
    "g_test_dataset_inventory = './inventory/test_saef_dataset_inventory.csv'\n",
    "# datafiles inventory\n",
    "g_test_datafiles_inventory = './inventory/test_saef_datafiles_inventory.csv'\n",
    "# collection url\n",
    "g_demo_dataverse_collection_url = 'saef'\n",
    "# demo.dataverse.org API key\n",
    "g_demo_dataverse_api_key = ''"
   ]
  },
  {
   "cell_type": "markdown",
   "metadata": {},
   "source": [
    "Add local modules path to Jupyter system path"
   ]
  },
  {
   "cell_type": "code",
   "execution_count": null,
   "metadata": {},
   "outputs": [],
   "source": [
    "import sys\n",
    "if g_saef_module_path not in sys.path:\n",
    "    sys.path.append(g_saef_module_path)"
   ]
  },
  {
   "cell_type": "markdown",
   "metadata": {},
   "source": [
    "## Modules"
   ]
  },
  {
   "cell_type": "code",
   "execution_count": null,
   "metadata": {},
   "outputs": [],
   "source": [
    "import saef\n",
    "import collection\n",
    "import pprint"
   ]
  },
  {
   "cell_type": "markdown",
   "metadata": {},
   "source": [
    "### Initialize pyDataverse API\n",
    "- **Description:** Initialize the `pyDataverse` API adapter"
   ]
  },
  {
   "cell_type": "code",
   "execution_count": null,
   "metadata": {},
   "outputs": [],
   "source": [
    "# import pyDataverse packages\n",
    "from pyDataverse.api import NativeApi\n",
    "\n",
    "# create pyDataverse API adapter\n",
    "dataverse_installation_url = 'https://demo.dataverse.org'\n",
    "api = NativeApi(dataverse_installation_url, g_demo_dataverse_api_key)\n",
    "\n",
    "print('{}'.format(api))"
   ]
  },
  {
   "cell_type": "markdown",
   "metadata": {},
   "source": [
    "### Create and initialize the `SAEFCollection`"
   ]
  },
  {
   "cell_type": "code",
   "execution_count": null,
   "metadata": {},
   "outputs": [],
   "source": [
    "print('SAEFCollection::initialize {}'.format(collection.SAEFCollection.__doc__))\n",
    "print('SAEFCollection::initialize {}'.format(collection.SAEFCollection.initialize.__doc__))"
   ]
  },
  {
   "cell_type": "code",
   "execution_count": null,
   "metadata": {},
   "outputs": [],
   "source": [
    "# create collection\n",
    "saef_collection = collection.SAEFCollection()\n",
    "\n",
    "# initialize the collection\n",
    "status = saef_collection.initialize(api, g_demo_dataverse_collection_url)\n",
    "print('SAEFCollection::initialize: {}'.format(status))"
   ]
  },
  {
   "cell_type": "markdown",
   "metadata": {},
   "source": [
    "### Get Dataset Inventory"
   ]
  },
  {
   "cell_type": "code",
   "execution_count": null,
   "metadata": {},
   "outputs": [],
   "source": [
    "datasets = saef_collection.create_dataset_inventory()\n",
    "datasets.to_csv(g_test_dataset_inventory,header=True,index=False)"
   ]
  },
  {
   "cell_type": "markdown",
   "metadata": {},
   "source": [
    "### Get SAEF Datafile Inventory"
   ]
  },
  {
   "cell_type": "code",
   "execution_count": null,
   "metadata": {},
   "outputs": [],
   "source": [
    "datafiles = saef_collection.create_datafile_inventory()\n",
    "datafiles.to_csv(g_test_datafiles_inventory,header=True,index=False)"
   ]
  },
  {
   "cell_type": "markdown",
   "metadata": {},
   "source": [
    "**End document.**"
   ]
  }
 ],
 "metadata": {
  "kernelspec": {
   "display_name": "base",
   "language": "python",
   "name": "python3"
  },
  "language_info": {
   "codemirror_mode": {
    "name": "ipython",
    "version": 3
   },
   "file_extension": ".py",
   "mimetype": "text/x-python",
   "name": "python",
   "nbconvert_exporter": "python",
   "pygments_lexer": "ipython3",
   "version": "3.8.8"
  },
  "vscode": {
   "interpreter": {
    "hash": "e80866da39f614c41262712a96c603cec09e65c25ffba1b64ff6a9fa5a13fe2c"
   }
  }
 },
 "nbformat": 4,
 "nbformat_minor": 4
}
