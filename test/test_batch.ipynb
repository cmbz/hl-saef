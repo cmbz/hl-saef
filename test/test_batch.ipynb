{
 "cells": [
  {
   "cell_type": "markdown",
   "metadata": {},
   "source": [
    "# Test: Create & Upload Batch of SAEF Datasets"
   ]
  },
  {
   "cell_type": "markdown",
   "metadata": {},
   "source": [
    "## About\n",
    "Interactive test of upload of a batch of SAEF digital objects in an existing inventory\n",
    "- **Created:** 2023/01/03\n",
    "- **Last update:** 2023/01/04"
   ]
  },
  {
   "cell_type": "markdown",
   "metadata": {},
   "source": [
    "## Globals\n",
    "Define global variables for testing purposes."
   ]
  },
  {
   "cell_type": "code",
   "execution_count": null,
   "metadata": {},
   "outputs": [],
   "source": [
    "g_saef_module_path = '../src'\n",
    "\n",
    "# this inventory already contains the required saef mms_id and object_tags fields\n",
    "# the inventory also contains proper file_path values\n",
    "g_test_saef_inventory = './inventory/test_saef_updated_inventory.csv'\n",
    "\n",
    "# demo.dataverse.org API key\n",
    "g_demo_dataverse_api_key = ''"
   ]
  },
  {
   "cell_type": "markdown",
   "metadata": {},
   "source": [
    "## Modules"
   ]
  },
  {
   "cell_type": "markdown",
   "metadata": {},
   "source": [
    "Add local modules path to Jupyter system path"
   ]
  },
  {
   "cell_type": "code",
   "execution_count": null,
   "metadata": {},
   "outputs": [],
   "source": [
    "import sys\n",
    "if g_saef_module_path not in sys.path:\n",
    "    sys.path.append(g_saef_module_path)"
   ]
  },
  {
   "cell_type": "code",
   "execution_count": null,
   "metadata": {},
   "outputs": [],
   "source": [
    "import lcd\n",
    "import saef\n",
    "import collection\n",
    "import pprint"
   ]
  },
  {
   "cell_type": "markdown",
   "metadata": {},
   "source": [
    "### 1. Load the `SAEFProjectConfig`"
   ]
  },
  {
   "cell_type": "code",
   "execution_count": null,
   "metadata": {},
   "outputs": [],
   "source": [
    "# create a saef project config instance\n",
    "config = saef.SAEFProjectConfig()\n",
    "\n",
    "# test a valid ini file\n",
    "print('SAEFProjectConfig::read_ini: {}'.format(config.read_ini('./config/test_saef_config_true.ini')))\n",
    "\n",
    "# print initialization status\n",
    "print('SAEFProjectConfig::initd: {}'.format(config.initd()))\n",
    "\n",
    "# get configuration options\n",
    "options = config.get_options()\n",
    "pprint.pprint('SAEFProjectConfig::get_options: {}'.format(options),sort_dicts=True)"
   ]
  },
  {
   "cell_type": "markdown",
   "metadata": {},
   "source": [
    "### 2. Load the test inventory "
   ]
  },
  {
   "cell_type": "code",
   "execution_count": null,
   "metadata": {},
   "outputs": [],
   "source": [
    "# create file inventory instance\n",
    "fi = lcd.FileInventory()\n",
    "\n",
    "# read inventory from a csv file\n",
    "print ('FileInventory::from_file: {}'.format(fi.from_file(g_test_saef_inventory)))\n",
    "\n",
    "# get the owner supplied names from the inventory\n",
    "object_osns = fi.get_owner_supplied_names()\n",
    "\n",
    "print ('Owner-supplied names: {}'.format(len(object_osns)))\n",
    "pprint.pprint(object_osns)"
   ]
  },
  {
   "cell_type": "markdown",
   "metadata": {},
   "source": [
    "### 3. For each owner-supplied name, create a `SAEFDigitalObject`"
   ]
  },
  {
   "cell_type": "code",
   "execution_count": null,
   "metadata": {},
   "outputs": [],
   "source": [
    "# dictionary of saef digital objects\n",
    "digital_objects = {}\n",
    "\n",
    "for osn in object_osns:\n",
    "    # get the files associated with the osn\n",
    "    files_df = fi.get_files('object_osn',osn)\n",
    "\n",
    "    # create saef digital object instance\n",
    "    saefdo = saef.SAEFDigitalObject()\n",
    "\n",
    "    # read saef digital object from dataframe\n",
    "    if (saefdo.from_dataframe(files_df) == True): \n",
    "        # add digital object to dictionary\n",
    "        digital_objects[osn] = saefdo\n",
    "    else:\n",
    "        print('Warning: failed to create SAEFDigitalObject for: {}'.format(osn))"
   ]
  },
  {
   "cell_type": "markdown",
   "metadata": {},
   "source": [
    "### 4. For each `SAEFDigitalObject` create a `SAEFDataset`"
   ]
  },
  {
   "cell_type": "code",
   "execution_count": null,
   "metadata": {},
   "outputs": [],
   "source": [
    "datasets = {}\n",
    "\n",
    "for osn in object_osns:\n",
    "    # create/initialize the dataset instance\n",
    "    saefdataset = saef.SAEFDataset()\n",
    "    saefdo = digital_objects[osn]\n",
    "    if (saefdataset.initialize(saefdo, config) == True):\n",
    "        datasets[osn] = saefdataset\n",
    "    else:\n",
    "        print('Warning: failed to create SAEFDataset for: {}'.format(osn))\n",
    "        \n",
    "pprint.pprint(datasets)"
   ]
  },
  {
   "cell_type": "markdown",
   "metadata": {},
   "source": [
    "### 5. Initialize the `pyDataverse` API"
   ]
  },
  {
   "cell_type": "code",
   "execution_count": null,
   "metadata": {},
   "outputs": [],
   "source": [
    "# import pyDataverse packages\n",
    "from pyDataverse.api import NativeApi\n",
    "\n",
    "# create pyDataverse API adapter\n",
    "dataverse_collection_url = options.get('dataverse').get('dataverse_collection_url')\n",
    "dataverse_installation_url = options.get('dataverse').get('dataverse_installation_url')\n",
    "\n",
    "# use the locally set dataverse api key\n",
    "api = NativeApi(dataverse_installation_url, g_demo_dataverse_api_key)\n",
    "print('{}'.format(api))"
   ]
  },
  {
   "cell_type": "markdown",
   "metadata": {},
   "source": [
    "### 6. For each `SAEFDataset`, create a dataset on `demo.dataverse.org` and upload its datafiles\n",
    "- Note: Be certain to **TURN OFF** the SAEF custom metadata block before doing so, otherwise the API calls will fail."
   ]
  },
  {
   "cell_type": "code",
   "execution_count": null,
   "metadata": {},
   "outputs": [],
   "source": [
    "for dataset in datasets.keys():\n",
    "    # get the saef dataset instance\n",
    "    d = datasets[dataset]\n",
    "    # create the dataset on demo.dataverse.org\n",
    "    print('Creating dataset for: {}'.format(dataset))\n",
    "    if (d.create(api) == False):\n",
    "        print ('Error: Failed to create dataset on demo.dataverse.org: {}'.format(dataset))\n",
    "    else:\n",
    "        # upload the datafiles\n",
    "        if (d.direct_upload_datafiles(api) == False):\n",
    "            print ('Error: Failed to upload datafiles for: {}'.format(dataset))\n",
    "        else:\n",
    "            # upload relationship files\n",
    "            if (d.direct_upload_relationships(api) == False):\n",
    "                print ('Error: Failed to upload relationship files for: {}'.format(dataset))\n",
    "    # all operations succeeded\n",
    "    print('Successfully created and uploaded dataset content: {}'.format(dataset))\n",
    "    print('#####')"
   ]
  },
  {
   "cell_type": "markdown",
   "metadata": {},
   "source": [
    "### 7. Apply custom SAEF metadata for all datasets\n",
    "- Note: First, make sure to **TURN ON** the SAEF custom metadata block on the demo dataverse installation\n",
    "- Note: 2023/01/03: Currently, the demo installation appears to be in a strange state where two conflicting versions of the SAEF custom metadata block appear to be active. That situation needs to be corrected before datasets can be updated with the SAEF custom metadata."
   ]
  },
  {
   "cell_type": "code",
   "execution_count": null,
   "metadata": {},
   "outputs": [],
   "source": [
    "for dataset in datasets.keys():\n",
    "    # get the saef dataset instance\n",
    "    d = datasets[dataset]\n",
    "    # get the custom metadata\n",
    "    md = d.get_dataset_metadata()\n",
    "    custom_md = md.get('dataset').get('customSAEF')\n",
    "    # update the custom metadata\n",
    "    if (d.upload_saef_metadata(api, custom_md) == False):\n",
    "        print('Error: Failed to update the custom SAEF metadata for: {}'.format(dataset))\n",
    "    else:\n",
    "        print('Successfully updated custom SAEF metadata for: {}'.format(dataset))"
   ]
  },
  {
   "cell_type": "markdown",
   "metadata": {},
   "source": [
    "### Clean up `demo.dataverse.org` collection\n",
    "Delete the datasets from demo.dataverse.org/saef"
   ]
  },
  {
   "cell_type": "code",
   "execution_count": null,
   "metadata": {},
   "outputs": [],
   "source": [
    "for dataset in datasets.keys():\n",
    "    # get the saef dataset instance\n",
    "    d = datasets[dataset]\n",
    "    # get the dataset pid\n",
    "    pid = d.get_dataset_pid()\n",
    "    # destroy the dataset\n",
    "    response = api.destroy_dataset(pid, is_pid=True, auth=True)\n",
    "    status = response.json().get('status')\n",
    "    print('SAEFDataset::destroy dataset: {}'.format(status))    "
   ]
  },
  {
   "cell_type": "markdown",
   "metadata": {},
   "source": [
    "**End document.**"
   ]
  }
 ],
 "metadata": {
  "kernelspec": {
   "display_name": "base",
   "language": "python",
   "name": "python3"
  },
  "language_info": {
   "codemirror_mode": {
    "name": "ipython",
    "version": 3
   },
   "file_extension": ".py",
   "mimetype": "text/x-python",
   "name": "python",
   "nbconvert_exporter": "python",
   "pygments_lexer": "ipython3",
   "version": "3.8.5"
  },
  "vscode": {
   "interpreter": {
    "hash": "e80866da39f614c41262712a96c603cec09e65c25ffba1b64ff6a9fa5a13fe2c"
   }
  }
 },
 "nbformat": 4,
 "nbformat_minor": 4
}
