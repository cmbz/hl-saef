{
 "cells": [
  {
   "attachments": {},
   "cell_type": "markdown",
   "metadata": {},
   "source": [
    "# Test: Clean up collection on `demo.dataverse.org` "
   ]
  },
  {
   "attachments": {},
   "cell_type": "markdown",
   "metadata": {},
   "source": [
    "## About\n",
    "Clean up of the `saef` or `saef_test` data collections on demo.dataverse.org \n",
    "- **Created:** 2023/02/23\n",
    "- **Last update:** 2023/02/23"
   ]
  },
  {
   "cell_type": "markdown",
   "metadata": {},
   "source": [
    "## Globals\n",
    "Define global variables for testing purposes."
   ]
  },
  {
   "cell_type": "code",
   "execution_count": null,
   "metadata": {},
   "outputs": [],
   "source": [
    "g_saef_module_path = '../src'\n",
    "\n",
    "# demo dataverse url\n",
    "g_demo_dataverse_installation_url = 'https://demo.dataverse.org'\n",
    "\n",
    "# dataverse collection name\n",
    "#g_demo_dataverse_collection = 'saef'\n",
    "g_demo_dataverse_collection = 'saef_test'\n",
    "\n",
    "# demo.dataverse.org API key\n",
    "g_demo_dataverse_api_key = ''"
   ]
  },
  {
   "cell_type": "markdown",
   "metadata": {},
   "source": [
    "## Modules"
   ]
  },
  {
   "cell_type": "code",
   "execution_count": null,
   "metadata": {},
   "outputs": [],
   "source": [
    "import pprint\n",
    "from pyDataverse.api import NativeApi"
   ]
  },
  {
   "cell_type": "markdown",
   "metadata": {},
   "source": [
    "Initialize `pyDataverse` API\n",
    "- The`pyDataverse` API adapter is use to push `SAEF` datasets to the dataverse installation defined in `g_project_config`"
   ]
  },
  {
   "cell_type": "code",
   "execution_count": null,
   "metadata": {},
   "outputs": [],
   "source": [
    "# create the pyDataverse API adapter\n",
    "# use the locally set dataverse api key\n",
    "api = NativeApi(g_demo_dataverse_installation_url, g_demo_dataverse_api_key)\n",
    "print('{}'.format(api))"
   ]
  },
  {
   "attachments": {},
   "cell_type": "markdown",
   "metadata": {},
   "source": [
    "### Clean up `demo.dataverse.org` collection\n",
    "Get the datasets from `demo.dataverse.org/saef_test` or `demo.dataverse.org/saef`"
   ]
  },
  {
   "cell_type": "code",
   "execution_count": null,
   "metadata": {},
   "outputs": [],
   "source": [
    "# get the datasets in the collection\n",
    "contents = api.get_dataverse_contents(g_demo_dataverse_collection, auth=True)\n",
    "# get the data\n",
    "data = contents.json().get('data')"
   ]
  },
  {
   "attachments": {},
   "cell_type": "markdown",
   "metadata": {},
   "source": [
    "Print list of datasets in `demo.dataverse.org/saef_test` or `demo.dataverse.org/saef`"
   ]
  },
  {
   "cell_type": "code",
   "execution_count": null,
   "metadata": {},
   "outputs": [],
   "source": [
    "datasets = []\n",
    "for dataset in data:\n",
    "    url = dataset.get('persistentUrl')\n",
    "    pid = url.split('https://doi.org/')[1]\n",
    "    datasets.append('doi:' + pid)\n",
    "\n",
    "pprint.pprint(datasets)"
   ]
  },
  {
   "attachments": {},
   "cell_type": "markdown",
   "metadata": {},
   "source": [
    "Destroy the datasets in `demo.dataverse.org/saef_test` or `demo.dataverse.org/saef`"
   ]
  },
  {
   "cell_type": "code",
   "execution_count": null,
   "metadata": {},
   "outputs": [],
   "source": [
    "# destroy the datasets\n",
    "for dataset in datasets:\n",
    "    response = api.destroy_dataset(dataset, is_pid=True, auth=True)\n",
    "    status = response.json()\n",
    "    print('api.destroy_dataset: {}'.format(status))"
   ]
  },
  {
   "cell_type": "markdown",
   "metadata": {},
   "source": [
    "**End document.**"
   ]
  }
 ],
 "metadata": {
  "kernelspec": {
   "display_name": "base",
   "language": "python",
   "name": "python3"
  },
  "language_info": {
   "codemirror_mode": {
    "name": "ipython",
    "version": 3
   },
   "file_extension": ".py",
   "mimetype": "text/x-python",
   "name": "python",
   "nbconvert_exporter": "python",
   "pygments_lexer": "ipython3",
   "version": "3.8.5"
  },
  "vscode": {
   "interpreter": {
    "hash": "e80866da39f614c41262712a96c603cec09e65c25ffba1b64ff6a9fa5a13fe2c"
   }
  }
 },
 "nbformat": 4,
 "nbformat_minor": 4
}
